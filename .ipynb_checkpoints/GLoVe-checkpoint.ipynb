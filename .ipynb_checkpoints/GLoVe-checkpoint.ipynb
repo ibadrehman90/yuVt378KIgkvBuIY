{
 "cells": [
  {
   "cell_type": "code",
   "execution_count": 1,
   "id": "4aece44c",
   "metadata": {},
   "outputs": [],
   "source": [
    "import numpy as np\n",
    "import re\n",
    "import scipy\n",
    "from nltk.corpus import stopwords\n",
    "import pandas as pd\n",
    "from sklearn.metrics.pairwise import cosine_similarity\n",
    "from sklearn.metrics.pairwise import linear_kernel"
   ]
  },
  {
   "cell_type": "code",
   "execution_count": 2,
   "id": "15be4e40",
   "metadata": {},
   "outputs": [],
   "source": [
    "def loadGloveModel(gloveFile):\n",
    "    print (\"Loading Glove Model\")\n",
    "    with open(gloveFile, encoding=\"utf8\" ) as f:\n",
    "        content = f.readlines()\n",
    "    model = {}\n",
    "    for line in content:\n",
    "        splitLine = line.split()\n",
    "        word = splitLine[0]\n",
    "        embedding = np.array([float(val) for val in splitLine[1:]])\n",
    "        model[word] = embedding\n",
    "    print (\"Done.\",len(model),\" words loaded!\")\n",
    "    return model"
   ]
  },
  {
   "cell_type": "code",
   "execution_count": 3,
   "id": "59499db9",
   "metadata": {},
   "outputs": [],
   "source": [
    "# import nltk\n",
    "# nltk.download('stopwords')\n",
    "def preprocess(raw_text):\n",
    "\n",
    "    # keep only words\n",
    "    letters_only_text = re.sub(\"[^a-zA-Z]\", \" \", raw_text)\n",
    "\n",
    "    # convert to lower case and split \n",
    "    words = letters_only_text.lower().split()\n",
    "\n",
    "    # remove stopwords\n",
    "    stopword_set = set(stopwords.words(\"english\"))\n",
    "    cleaned_words = list(set([w for w in words if w not in stopword_set]))\n",
    "\n",
    "    return cleaned_words"
   ]
  },
  {
   "cell_type": "code",
   "execution_count": 4,
   "id": "c9eaab8b",
   "metadata": {},
   "outputs": [],
   "source": [
    "def calculate_heat_matrix_for_two_sentences(s1,s2):\n",
    "    s1 = preprocess(s1)\n",
    "    s2 = preprocess(s2)\n",
    "    result_list = [[cosine_distance_between_two_words(word1, word2) for word2 in s2] for word1 in s1]\n",
    "    result_df = pd.DataFrame(result_list)\n",
    "    result_df.columns = s2\n",
    "    result_df.index = s1\n",
    "    return result_df"
   ]
  },
  {
   "cell_type": "code",
   "execution_count": 5,
   "id": "a29fce08",
   "metadata": {},
   "outputs": [],
   "source": [
    "def cosine_distance_between_two_words(word1, word2):\n",
    "    return (1- scipy.spatial.distance.cosine(model[word1], model[word2]))"
   ]
  },
  {
   "cell_type": "code",
   "execution_count": 6,
   "id": "1b8ae9c4",
   "metadata": {},
   "outputs": [],
   "source": [
    "def cosine_distance_wordembedding_method(s1, s2):\n",
    "    vector_1 = np.mean([model[word] for word in preprocess(s1)],axis=0)\n",
    "    vector_2 = np.mean([model[word] for word in preprocess(s2)],axis=0)\n",
    "    cosine = scipy.spatial.distance.cosine(vector_1, vector_2)\n",
    "    print('Word Embedding method with a cosine distance asses that our two sentences are similar to',round((1-cosine)*100,2),'%')"
   ]
  },
  {
   "cell_type": "code",
   "execution_count": 7,
   "id": "f6248d41",
   "metadata": {},
   "outputs": [
    {
     "name": "stdout",
     "output_type": "stream",
     "text": [
      "Loading Glove Model\n",
      "Done. 400001  words loaded!\n"
     ]
    }
   ],
   "source": [
    "model = loadGloveModel('glove.6b/glove.6B.300d.txt')"
   ]
  },
  {
   "cell_type": "code",
   "execution_count": 32,
   "id": "872432ef",
   "metadata": {},
   "outputs": [],
   "source": [
    "ss1 = 'Aspiring human resources'\n",
    "ss2 = 'Seeking Human Resources and Generalist Positions'"
   ]
  },
  {
   "cell_type": "code",
   "execution_count": 35,
   "id": "723a9079",
   "metadata": {},
   "outputs": [
    {
     "name": "stdout",
     "output_type": "stream",
     "text": [
      "Word Embedding method with a cosine distance asses that our two sentences are similar to 77.0 %\n"
     ]
    }
   ],
   "source": [
    "cosine_distance_wordembedding_method(ss1, ss2)"
   ]
  },
  {
   "cell_type": "code",
   "execution_count": 26,
   "id": "e979fabd",
   "metadata": {},
   "outputs": [],
   "source": [
    "df = pd.read_excel(\"potential-talents-glove.xlsx\")\n",
    "job_titles = df['job_title']\n",
    "keyword = 'Aspiring human resources'"
   ]
  },
  {
   "cell_type": "code",
   "execution_count": 31,
   "id": "0041497c",
   "metadata": {},
   "outputs": [
    {
     "name": "stdout",
     "output_type": "stream",
     "text": [
      "Word Embeddings for  Aspiring human resources  and 2019 C.T. Bauer College of Business Graduate (Magna Cum Laude) and aspiring Human Resources professional  is 0.44848275685501204\n",
      "Word Embeddings for  Aspiring human resources  and Native English Teacher at (English Program in Korea)  is 0.5721073442641142\n",
      "Word Embeddings for  Aspiring human resources  and Aspiring Human Resources Professional  is 0.07433727990532446\n",
      "Word Embeddings for  Aspiring human resources  and People Development Coordinator at Ryan  is 0.5126069067646002\n",
      "Word Embeddings for  Aspiring human resources  and Advisory Board Member at Celal Bayar University  is 0.7371812079227311\n",
      "Word Embeddings for  Aspiring human resources  and Aspiring Human Resources Specialist  is 0.06530969126181263\n",
      "Word Embeddings for  Aspiring human resources  and Student at Humber College and Aspiring Human Resources Generalist  is 0.2660399492756056\n",
      "Word Embeddings for  Aspiring human resources  and HR Senior Specialist  is 0.7055341427025774\n",
      "Word Embeddings for  Aspiring human resources  and Student at Humber College and Aspiring Human Resources Generalist  is 0.2660399492756056\n",
      "Word Embeddings for  Aspiring human resources  and Seeking Human Resources and Generalist Positions  is 0.2300007817502836\n",
      "Word Embeddings for  Aspiring human resources  and Student at Chapman University  is 0.6984511678939379\n",
      "Word Embeddings for  Aspiring human resources  and SVP, Marketing & Communications, CSR Officer | Houston | The Woodlands | Energy  is 0.6622725547860602\n",
      "Word Embeddings for  Aspiring human resources  and Human Resources Coordinator at InterContinental Buckhead Atlanta  is 0.42590936789983225\n",
      "Word Embeddings for  Aspiring human resources  and 2019 C.T. Bauer College of Business Graduate (Magna Cum Laude) and aspiring Human Resources professional  is 0.44848275685501204\n",
      "Word Embeddings for  Aspiring human resources  and 2019 C.T. Bauer College of Business Graduate (Magna Cum Laude) and aspiring Human Resources professional  is 0.44848275685501204\n",
      "Word Embeddings for  Aspiring human resources  and Native English Teacher at (English Program in Korea)  is 0.5721073442641142\n",
      "Word Embeddings for  Aspiring human resources  and Aspiring Human Resources Professional  is 0.07433727990532446\n",
      "Word Embeddings for  Aspiring human resources  and People Development Coordinator at Ryan  is 0.5126069067646002\n",
      "Word Embeddings for  Aspiring human resources  and 2019 C.T. Bauer College of Business Graduate (Magna Cum Laude) and aspiring Human Resources professional  is 0.44848275685501204\n",
      "Word Embeddings for  Aspiring human resources  and Native English Teacher at (English Program in Korea)  is 0.5721073442641142\n",
      "Word Embeddings for  Aspiring human resources  and Aspiring Human Resources Professional  is 0.07433727990532446\n",
      "Word Embeddings for  Aspiring human resources  and People Development Coordinator at Ryan  is 0.5126069067646002\n",
      "Word Embeddings for  Aspiring human resources  and Advisory Board Member at Celal Bayar University  is 0.7371812079227311\n",
      "Word Embeddings for  Aspiring human resources  and Aspiring Human Resources Specialist  is 0.06530969126181263\n",
      "Word Embeddings for  Aspiring human resources  and Student at Humber College and Aspiring Human Resources Generalist  is 0.2660399492756056\n",
      "Word Embeddings for  Aspiring human resources  and HR Senior Specialist  is 0.7055341427025774\n",
      "Word Embeddings for  Aspiring human resources  and Aspiring Human Resources Management student seeking an internship  is 0.18271859817762015\n",
      "Word Embeddings for  Aspiring human resources  and Seeking Human Resources Opportunities  is 0.1484871286153403\n",
      "Word Embeddings for  Aspiring human resources  and Aspiring Human Resources Management student seeking an internship  is 0.18271859817762015\n",
      "Word Embeddings for  Aspiring human resources  and Seeking Human Resources Opportunities  is 0.1484871286153403\n",
      "Word Embeddings for  Aspiring human resources  and 2019 C.T. Bauer College of Business Graduate (Magna Cum Laude) and aspiring Human Resources professional  is 0.44848275685501204\n",
      "Word Embeddings for  Aspiring human resources  and Native English Teacher (English Program in Korea)  is 0.5721073442641142\n",
      "Word Embeddings for  Aspiring human resources  and Aspiring Human Resources Professional  is 0.07433727990532446\n",
      "Word Embeddings for  Aspiring human resources  and People Development Coordinator at Ryan  is 0.5126069067646002\n",
      "Word Embeddings for  Aspiring human resources  and Advisory Board Member at Celal Bayar University  is 0.7371812079227311\n",
      "Word Embeddings for  Aspiring human resources  and Aspiring Human Resources Specialist  is 0.06530969126181263\n",
      "Word Embeddings for  Aspiring human resources  and Student at Humber College and Aspiring Human Resources Generalist  is 0.2660399492756056\n",
      "Word Embeddings for  Aspiring human resources  and HR Senior Specialist  is 0.7055341427025774\n",
      "Word Embeddings for  Aspiring human resources  and Student at Humber College and Aspiring Human Resources Generalist  is 0.2660399492756056\n",
      "Word Embeddings for  Aspiring human resources  and Seeking Human Resources and Generalist Positions  is 0.2300007817502836\n",
      "Word Embeddings for  Aspiring human resources  and Student at Chapman University  is 0.6984511678939379\n",
      "Word Embeddings for  Aspiring human resources  and SVP, CHRO, Marketing & Communications, CSR Officer | Houston | The Woodlands | Energy  is 0.675424953947197\n",
      "Word Embeddings for  Aspiring human resources  and Human Resources Coordinator at InterContinental Buckhead Atlanta  is 0.42590936789983225\n",
      "Word Embeddings for  Aspiring human resources  and 2019 C.T. Bauer College of Business Graduate (Magna Cum Laude) and aspiring Human Resources professional  is 0.44848275685501204\n",
      "Word Embeddings for  Aspiring human resources  and Native English Teacher at EPIK (English Program in Korea)  is 0.630584749633176\n",
      "Word Embeddings for  Aspiring human resources  and Aspiring Human Resources Professional  is 0.07433727990532446\n",
      "Word Embeddings for  Aspiring human resources  and People Development Coordinator at Ryan  is 0.5126069067646002\n",
      "Word Embeddings for  Aspiring human resources  and Advisory Board Member at Celal Bayar University  is 0.7371812079227311\n",
      "Word Embeddings for  Aspiring human resources  and Aspiring Human Resources Specialist  is 0.06530969126181263\n",
      "Word Embeddings for  Aspiring human resources  and Student at Humber College and Aspiring Human Resources Generalist  is 0.2660399492756056\n",
      "Word Embeddings for  Aspiring human resources  and HR Senior Specialist  is 0.7055341427025774\n",
      "Word Embeddings for  Aspiring human resources  and Student at Humber College and Aspiring Human Resources Generalist  is 0.2660399492756056\n",
      "Word Embeddings for  Aspiring human resources  and Seeking Human Resources and Generalist Positions  is 0.2300007817502836\n",
      "Word Embeddings for  Aspiring human resources  and Student at Chapman University  is 0.6984511678939379\n",
      "Word Embeddings for  Aspiring human resources  and SVP, CHRO, Marketing & Communications, CSR Officer | Houston | The Woodlands | Energy  is 0.675424953947197\n",
      "Word Embeddings for  Aspiring human resources  and Human Resources Coordinator at InterContinental Buckhead Atlanta  is 0.42590936789983225\n",
      "Word Embeddings for  Aspiring human resources  and 2019 C.T. Bauer College of Business Graduate (Magna Cum Laude) and aspiring Human Resources professional  is 0.44848275685501204\n",
      "Word Embeddings for  Aspiring human resources  and Aspiring Human Resources Professional  is 0.07433727990532446\n",
      "Word Embeddings for  Aspiring human resources  and People Development Coordinator at Ryan  is 0.5126069067646002\n",
      "Word Embeddings for  Aspiring human resources  and Aspiring Human Resources Specialist  is 0.06530969126181263\n",
      "Word Embeddings for  Aspiring human resources  and HR Senior Specialist  is 0.7055341427025774\n",
      "Word Embeddings for  Aspiring human resources  and Seeking Human Resources and Generalist Positions  is 0.2300007817502836\n",
      "Word Embeddings for  Aspiring human resources  and Student at Chapman University  is 0.6984511678939379\n",
      "Word Embeddings for  Aspiring human resources  and SVP, CHRO, Marketing & Communications, CSR Officer| Houston | The Woodlands | Energy  is 0.675424953947197\n",
      "Word Embeddings for  Aspiring human resources  and Human Resources Coordinator at InterContinental Buckhead Atlanta  is 0.42590936789983225\n",
      "Word Embeddings for  Aspiring human resources  and Experienced Retail Manager and aspiring Human Resources Professional  is 0.23426720360003495\n",
      "Word Embeddings for  Aspiring human resources  and Human Resources, Staffing and Recruiting Professional  is 0.22310368337719455\n",
      "Word Embeddings for  Aspiring human resources  and Human Resources Specialist at Luxottica  is 0.287863230065623\n",
      "Word Embeddings for  Aspiring human resources  and Director of Human Resources North America, Groupe Beneteau  is 0.35221063314132073\n",
      "Word Embeddings for  Aspiring human resources  and Retired Army National Guard Recruiter, office manager,  seeking a position in Human Resources.  is 0.39520329418672295\n",
      "Word Embeddings for  Aspiring human resources  and Human Resources Generalist  is 0.1959736422220093\n",
      "Word Embeddings for  Aspiring human resources  and Business Management Major and Aspiring Human Resources Manager  is 0.23506029474409718\n",
      "Word Embeddings for  Aspiring human resources  and Aspiring Human Resources Manager, seeking internship in Human Resources.  is 0.17435323994666374\n",
      "Word Embeddings for  Aspiring human resources  and Human Resources Professional  is 0.1220675472595728\n",
      "Word Embeddings for  Aspiring human resources  and Staffing is seeking Human Resources, Payroll & Administrative Professionals!!  (408) 709-2621  is 0.2949290099281666\n",
      "Word Embeddings for  Aspiring human resources  and Aspiring Human Resources Professional | Passionate about helping to create an inclusive and engaging work environment  is 0.21522759208049458\n",
      "Word Embeddings for  Aspiring human resources  and Human Resources|\n",
      "Conflict Management|\n",
      "Policies & Procedures|Talent Management|Benefits & Compensation  is 0.2841066737111143\n",
      "Word Embeddings for  Aspiring human resources  and Human Resources Generalist at Schwan's  is 0.33447529737714776\n",
      "Word Embeddings for  Aspiring human resources  and Liberal Arts Major. Aspiring Human Resources Analyst.  is 0.229689781923475\n",
      "Word Embeddings for  Aspiring human resources  and Junior MES Engineer| Information Systems  is 0.6233125025630616\n",
      "Word Embeddings for  Aspiring human resources  and Senior Human Resources Business Partner at Heil Environmental  is 0.26337601578140546\n",
      "Word Embeddings for  Aspiring human resources  and Aspiring Human Resources Professional | An energetic and Team-Focused Leader  is 0.22284280555841995\n",
      "Word Embeddings for  Aspiring human resources  and HR Manager at Endemol Shine North America  is 0.7366916031110695\n",
      "Word Embeddings for  Aspiring human resources  and Human Resources professional for the world leader in GIS software  is 0.26665360317109765\n",
      "Word Embeddings for  Aspiring human resources  and RRP Brand Portfolio Executive at JTI (Japan Tobacco International)  is 0.7668796788068337\n",
      "Word Embeddings for  Aspiring human resources  and Information Systems Specialist and Programmer with a love for data and organization.  is 0.43092479160370945\n",
      "Word Embeddings for  Aspiring human resources  and Bachelor of Science in Biology from Victoria University of Wellington  is 0.6596824214401971\n",
      "Word Embeddings for  Aspiring human resources  and Human Resources Management Major  is 0.21214704454450084\n",
      "Word Embeddings for  Aspiring human resources  and Director Human Resources  at EY  is 0.23724936893880177\n",
      "Word Embeddings for  Aspiring human resources  and Undergraduate Research Assistant  is 0.5796752893758126\n",
      "Word Embeddings for  Aspiring human resources  and Lead Official at Western Illinois University  is 0.6151027813277463\n",
      "Word Embeddings for  Aspiring human resources  and Seeking employment opportunities within Customer Service or Patient Care  is 0.4703676075887644\n",
      "Word Embeddings for  Aspiring human resources  and Admissions Representative at Community medical center long beach  is 0.5762341818246923\n",
      "Word Embeddings for  Aspiring human resources  and Seeking Human  Resources Opportunities. Open to travel and relocation.  is 0.27339170670929813\n",
      "Word Embeddings for  Aspiring human resources  and Student at Westfield State University  is 0.662893455485742\n",
      "Word Embeddings for  Aspiring human resources  and Student at Indiana University Kokomo - Business Management - \n",
      "Retail Manager at Delphi Hardware and Paint  is 0.6584877926626487\n",
      "Word Embeddings for  Aspiring human resources  and Aspiring Human Resources Professional  is 0.07433727990532446\n",
      "Word Embeddings for  Aspiring human resources  and Student  is 0.6370051966680444\n",
      "Word Embeddings for  Aspiring human resources  and Seeking Human Resources Position  is 0.1895308084588504\n",
      "Word Embeddings for  Aspiring human resources  and Aspiring Human Resources Manager | Graduating May 2020 | Seeking an Entry-Level Human Resources Position in St. Louis  is 0.34218719512297036\n",
      "Word Embeddings for  Aspiring human resources  and Human Resources Generalist  is 0.1959736422220093\n",
      "Word Embeddings for  Aspiring human resources  and Business Intelligence and Analytics at Travelers  is 0.6514726634191912\n",
      "Word Embeddings for  Aspiring human resources  and Always set them up for Success  is 0.594102959428525\n",
      "Word Embeddings for  Aspiring human resources  and Director Of Administration at Excellence Logging  is 0.5258854627821983\n"
     ]
    }
   ],
   "source": [
    "for i in job_titles:\n",
    "    vector_1 = np.mean([model[word] for word in preprocess(keyword)],axis=0)\n",
    "    vector_2 = np.mean([model[word] for word in preprocess(i)],axis=0)\n",
    "    cosine = scipy.spatial.distance.cosine(vector_1, vector_2)\n",
    "#     print('Word Embedding method with a cosine distance asses that our two sentences are similar to',round((1-cosine)*100,2),'%')\n",
    "    print('Word Embeddings for ',keyword,' and',i,' is',cosine)\n",
    "    "
   ]
  }
 ],
 "metadata": {
  "kernelspec": {
   "display_name": "tf",
   "language": "python",
   "name": "tf"
  },
  "language_info": {
   "codemirror_mode": {
    "name": "ipython",
    "version": 3
   },
   "file_extension": ".py",
   "mimetype": "text/x-python",
   "name": "python",
   "nbconvert_exporter": "python",
   "pygments_lexer": "ipython3",
   "version": "3.9.7"
  }
 },
 "nbformat": 4,
 "nbformat_minor": 5
}
