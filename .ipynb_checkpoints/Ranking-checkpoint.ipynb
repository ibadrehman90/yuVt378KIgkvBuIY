{
 "cells": [
  {
   "cell_type": "code",
   "execution_count": 27,
   "id": "ba2840a6",
   "metadata": {},
   "outputs": [],
   "source": [
    "import numpy as np\n",
    "import pandas as pd\n",
    "import pandas as pandasForSortingCSV"
   ]
  },
  {
   "cell_type": "code",
   "execution_count": 8,
   "id": "d284eb3f",
   "metadata": {},
   "outputs": [
    {
     "data": {
      "text/html": [
       "<div>\n",
       "<style scoped>\n",
       "    .dataframe tbody tr th:only-of-type {\n",
       "        vertical-align: middle;\n",
       "    }\n",
       "\n",
       "    .dataframe tbody tr th {\n",
       "        vertical-align: top;\n",
       "    }\n",
       "\n",
       "    .dataframe thead th {\n",
       "        text-align: right;\n",
       "    }\n",
       "</style>\n",
       "<table border=\"1\" class=\"dataframe\">\n",
       "  <thead>\n",
       "    <tr style=\"text-align: right;\">\n",
       "      <th></th>\n",
       "      <th>titles</th>\n",
       "      <th>Tfidf</th>\n",
       "      <th>BERT</th>\n",
       "      <th>GloVe</th>\n",
       "      <th>Score</th>\n",
       "    </tr>\n",
       "  </thead>\n",
       "  <tbody>\n",
       "    <tr>\n",
       "      <th>0</th>\n",
       "      <td>2019 C.T. Bauer College of Business Graduate (...</td>\n",
       "      <td>0.028660</td>\n",
       "      <td>0.572329</td>\n",
       "      <td>0.448483</td>\n",
       "      <td>0.572329</td>\n",
       "    </tr>\n",
       "    <tr>\n",
       "      <th>1</th>\n",
       "      <td>Native English Teacher at EPIK (English Progra...</td>\n",
       "      <td>0.286827</td>\n",
       "      <td>0.611550</td>\n",
       "      <td>0.572107</td>\n",
       "      <td>0.611550</td>\n",
       "    </tr>\n",
       "    <tr>\n",
       "      <th>2</th>\n",
       "      <td>Aspiring Human Resources Professional</td>\n",
       "      <td>0.046446</td>\n",
       "      <td>0.637651</td>\n",
       "      <td>0.074337</td>\n",
       "      <td>0.637651</td>\n",
       "    </tr>\n",
       "    <tr>\n",
       "      <th>3</th>\n",
       "      <td>People Development Coordinator at Ryan</td>\n",
       "      <td>0.035723</td>\n",
       "      <td>0.638973</td>\n",
       "      <td>0.512607</td>\n",
       "      <td>0.638973</td>\n",
       "    </tr>\n",
       "    <tr>\n",
       "      <th>4</th>\n",
       "      <td>Advisory Board Member at Celal Bayar University</td>\n",
       "      <td>0.148658</td>\n",
       "      <td>0.589674</td>\n",
       "      <td>0.737181</td>\n",
       "      <td>0.589674</td>\n",
       "    </tr>\n",
       "  </tbody>\n",
       "</table>\n",
       "</div>"
      ],
      "text/plain": [
       "                                              titles     Tfidf      BERT  \\\n",
       "0  2019 C.T. Bauer College of Business Graduate (...  0.028660  0.572329   \n",
       "1  Native English Teacher at EPIK (English Progra...  0.286827  0.611550   \n",
       "2              Aspiring Human Resources Professional  0.046446  0.637651   \n",
       "3             People Development Coordinator at Ryan  0.035723  0.638973   \n",
       "4    Advisory Board Member at Celal Bayar University  0.148658  0.589674   \n",
       "\n",
       "      GloVe     Score  \n",
       "0  0.448483  0.572329  \n",
       "1  0.572107  0.611550  \n",
       "2  0.074337  0.637651  \n",
       "3  0.512607  0.638973  \n",
       "4  0.737181  0.589674  "
      ]
     },
     "execution_count": 8,
     "metadata": {},
     "output_type": "execute_result"
    }
   ],
   "source": [
    "df = pd.read_csv(\"aspiring-human-resource-final.csv\")\n",
    "df.head()"
   ]
  },
  {
   "cell_type": "code",
   "execution_count": null,
   "id": "ece6ec69",
   "metadata": {},
   "outputs": [],
   "source": [
    "pd.set_option('display.max_rows', None)\n",
    "df"
   ]
  },
  {
   "cell_type": "code",
   "execution_count": null,
   "id": "9d9b295e",
   "metadata": {},
   "outputs": [],
   "source": [
    "def ranking():\n",
    "    print(df)\n",
    "    selected_candidates = []\n",
    "    n = int(input(\"Select the best suited candidates: \"))\n",
    "    selected_candidates.append(n)\n",
    "    cont = input(\"Do you wish to select more? Y/N \")\n",
    "    while cont == 'Y' or cont == 'y':\n",
    "        new_cand = int(input(\"Select the best suited candidates: \"))\n",
    "        selected_candidates.append(new_cand )\n",
    "        check = input(\"Do you wish to select more? Y/N \")\n",
    "        if check == 'N' or check == 'n':\n",
    "            break\n",
    "    print(selected_candidates)"
   ]
  },
  {
   "cell_type": "code",
   "execution_count": null,
   "id": "ee77a0d3",
   "metadata": {},
   "outputs": [],
   "source": [
    "ranking()"
   ]
  }
 ],
 "metadata": {
  "kernelspec": {
   "display_name": "tf",
   "language": "python",
   "name": "tf"
  },
  "language_info": {
   "codemirror_mode": {
    "name": "ipython",
    "version": 3
   },
   "file_extension": ".py",
   "mimetype": "text/x-python",
   "name": "python",
   "nbconvert_exporter": "python",
   "pygments_lexer": "ipython3",
   "version": "3.9.7"
  }
 },
 "nbformat": 4,
 "nbformat_minor": 5
}
