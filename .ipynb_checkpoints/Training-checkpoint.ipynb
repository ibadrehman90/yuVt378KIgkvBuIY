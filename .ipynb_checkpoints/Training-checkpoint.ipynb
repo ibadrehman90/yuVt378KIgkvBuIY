{
 "cells": [
  {
   "cell_type": "code",
   "execution_count": 31,
   "id": "57a9fc6c",
   "metadata": {},
   "outputs": [],
   "source": [
    "from sentence_transformers import SentenceTransformer\n",
    "import pandas as pd\n",
    "import numpy as np\n",
    "from keras.models import Sequential\n",
    "from keras.layers import Dense\n",
    "from sklearn.model_selection import train_test_split"
   ]
  },
  {
   "cell_type": "code",
   "execution_count": 49,
   "id": "5d92527c",
   "metadata": {},
   "outputs": [
    {
     "data": {
      "text/html": [
       "<div>\n",
       "<style scoped>\n",
       "    .dataframe tbody tr th:only-of-type {\n",
       "        vertical-align: middle;\n",
       "    }\n",
       "\n",
       "    .dataframe tbody tr th {\n",
       "        vertical-align: top;\n",
       "    }\n",
       "\n",
       "    .dataframe thead th {\n",
       "        text-align: right;\n",
       "    }\n",
       "</style>\n",
       "<table border=\"1\" class=\"dataframe\">\n",
       "  <thead>\n",
       "    <tr style=\"text-align: right;\">\n",
       "      <th></th>\n",
       "      <th>Unnamed: 0</th>\n",
       "      <th>titles</th>\n",
       "      <th>Tfidf</th>\n",
       "      <th>BERT</th>\n",
       "      <th>GloVe</th>\n",
       "      <th>Score</th>\n",
       "      <th>label</th>\n",
       "    </tr>\n",
       "  </thead>\n",
       "  <tbody>\n",
       "    <tr>\n",
       "      <th>0</th>\n",
       "      <td>0</td>\n",
       "      <td>2019 C.T. Bauer College of Business Graduate (...</td>\n",
       "      <td>0.028660</td>\n",
       "      <td>0.572329</td>\n",
       "      <td>0.448483</td>\n",
       "      <td>0.572329</td>\n",
       "      <td>1.0</td>\n",
       "    </tr>\n",
       "    <tr>\n",
       "      <th>1</th>\n",
       "      <td>1</td>\n",
       "      <td>Native English Teacher at EPIK (English Progra...</td>\n",
       "      <td>0.286827</td>\n",
       "      <td>0.611550</td>\n",
       "      <td>0.572107</td>\n",
       "      <td>0.611550</td>\n",
       "      <td>1.0</td>\n",
       "    </tr>\n",
       "    <tr>\n",
       "      <th>2</th>\n",
       "      <td>2</td>\n",
       "      <td>Aspiring Human Resources Professional</td>\n",
       "      <td>0.046446</td>\n",
       "      <td>0.637651</td>\n",
       "      <td>0.074337</td>\n",
       "      <td>0.637651</td>\n",
       "      <td>1.0</td>\n",
       "    </tr>\n",
       "    <tr>\n",
       "      <th>3</th>\n",
       "      <td>3</td>\n",
       "      <td>People Development Coordinator at Ryan</td>\n",
       "      <td>0.035723</td>\n",
       "      <td>0.638973</td>\n",
       "      <td>0.512607</td>\n",
       "      <td>0.638973</td>\n",
       "      <td>1.0</td>\n",
       "    </tr>\n",
       "    <tr>\n",
       "      <th>4</th>\n",
       "      <td>4</td>\n",
       "      <td>Advisory Board Member at Celal Bayar University</td>\n",
       "      <td>0.148658</td>\n",
       "      <td>0.589674</td>\n",
       "      <td>0.737181</td>\n",
       "      <td>0.589674</td>\n",
       "      <td>1.0</td>\n",
       "    </tr>\n",
       "    <tr>\n",
       "      <th>...</th>\n",
       "      <td>...</td>\n",
       "      <td>...</td>\n",
       "      <td>...</td>\n",
       "      <td>...</td>\n",
       "      <td>...</td>\n",
       "      <td>...</td>\n",
       "      <td>...</td>\n",
       "    </tr>\n",
       "    <tr>\n",
       "      <th>98</th>\n",
       "      <td>98</td>\n",
       "      <td>Seeking Human Resources Position</td>\n",
       "      <td>0.067765</td>\n",
       "      <td>0.674440</td>\n",
       "      <td>0.189531</td>\n",
       "      <td>0.674440</td>\n",
       "      <td>1.0</td>\n",
       "    </tr>\n",
       "    <tr>\n",
       "      <th>99</th>\n",
       "      <td>99</td>\n",
       "      <td>Aspiring Human Resources Manager | Graduating ...</td>\n",
       "      <td>0.078586</td>\n",
       "      <td>0.574616</td>\n",
       "      <td>0.342187</td>\n",
       "      <td>0.574616</td>\n",
       "      <td>1.0</td>\n",
       "    </tr>\n",
       "    <tr>\n",
       "      <th>100</th>\n",
       "      <td>100</td>\n",
       "      <td>Human Resources Generalist at Loparex</td>\n",
       "      <td>0.080351</td>\n",
       "      <td>0.526401</td>\n",
       "      <td>0.195974</td>\n",
       "      <td>0.526401</td>\n",
       "      <td>1.0</td>\n",
       "    </tr>\n",
       "    <tr>\n",
       "      <th>101</th>\n",
       "      <td>101</td>\n",
       "      <td>Business Intelligence and Analytics at Travelers</td>\n",
       "      <td>0.029344</td>\n",
       "      <td>0.573241</td>\n",
       "      <td>0.651473</td>\n",
       "      <td>0.573241</td>\n",
       "      <td>1.0</td>\n",
       "    </tr>\n",
       "    <tr>\n",
       "      <th>102</th>\n",
       "      <td>102</td>\n",
       "      <td>Always set them up for Success</td>\n",
       "      <td>0.123387</td>\n",
       "      <td>0.606319</td>\n",
       "      <td>0.594103</td>\n",
       "      <td>0.606319</td>\n",
       "      <td>1.0</td>\n",
       "    </tr>\n",
       "  </tbody>\n",
       "</table>\n",
       "<p>103 rows × 7 columns</p>\n",
       "</div>"
      ],
      "text/plain": [
       "     Unnamed: 0                                             titles     Tfidf  \\\n",
       "0             0  2019 C.T. Bauer College of Business Graduate (...  0.028660   \n",
       "1             1  Native English Teacher at EPIK (English Progra...  0.286827   \n",
       "2             2              Aspiring Human Resources Professional  0.046446   \n",
       "3             3             People Development Coordinator at Ryan  0.035723   \n",
       "4             4    Advisory Board Member at Celal Bayar University  0.148658   \n",
       "..          ...                                                ...       ...   \n",
       "98           98                   Seeking Human Resources Position  0.067765   \n",
       "99           99  Aspiring Human Resources Manager | Graduating ...  0.078586   \n",
       "100         100              Human Resources Generalist at Loparex  0.080351   \n",
       "101         101   Business Intelligence and Analytics at Travelers  0.029344   \n",
       "102         102                     Always set them up for Success  0.123387   \n",
       "\n",
       "         BERT     GloVe     Score  label  \n",
       "0    0.572329  0.448483  0.572329    1.0  \n",
       "1    0.611550  0.572107  0.611550    1.0  \n",
       "2    0.637651  0.074337  0.637651    1.0  \n",
       "3    0.638973  0.512607  0.638973    1.0  \n",
       "4    0.589674  0.737181  0.589674    1.0  \n",
       "..        ...       ...       ...    ...  \n",
       "98   0.674440  0.189531  0.674440    1.0  \n",
       "99   0.574616  0.342187  0.574616    1.0  \n",
       "100  0.526401  0.195974  0.526401    1.0  \n",
       "101  0.573241  0.651473  0.573241    1.0  \n",
       "102  0.606319  0.594103  0.606319    1.0  \n",
       "\n",
       "[103 rows x 7 columns]"
      ]
     },
     "execution_count": 49,
     "metadata": {},
     "output_type": "execute_result"
    }
   ],
   "source": [
    "# df = pd.read_csv(\"seeking-human-ranked.csv\")\n",
    "df = pd.read_csv(\"aspiring-human-ranked.csv\")\n",
    "df"
   ]
  },
  {
   "cell_type": "code",
   "execution_count": 50,
   "id": "275f41db",
   "metadata": {},
   "outputs": [],
   "source": [
    "y = df['label']"
   ]
  },
  {
   "cell_type": "code",
   "execution_count": 51,
   "id": "d4418670",
   "metadata": {},
   "outputs": [],
   "source": [
    "model_name = 'bert-base-nli-mean-tokens'"
   ]
  },
  {
   "cell_type": "code",
   "execution_count": 52,
   "id": "1369f587",
   "metadata": {},
   "outputs": [],
   "source": [
    "embed_model = SentenceTransformer(model_name)"
   ]
  },
  {
   "cell_type": "code",
   "execution_count": 53,
   "id": "af41027f",
   "metadata": {},
   "outputs": [],
   "source": [
    "sentence_vec = embed_model.encode(df['titles'])"
   ]
  },
  {
   "cell_type": "code",
   "execution_count": 54,
   "id": "ff5d3651",
   "metadata": {},
   "outputs": [
    {
     "data": {
      "text/plain": [
       "(103, 768)"
      ]
     },
     "execution_count": 54,
     "metadata": {},
     "output_type": "execute_result"
    }
   ],
   "source": [
    "sentence_vec.shape"
   ]
  },
  {
   "cell_type": "code",
   "execution_count": 55,
   "id": "10fa043e",
   "metadata": {},
   "outputs": [],
   "source": [
    "X = sentence_vec"
   ]
  },
  {
   "cell_type": "code",
   "execution_count": 56,
   "id": "988b873c",
   "metadata": {},
   "outputs": [],
   "source": [
    "X_train, X_test, y_train, y_test = train_test_split(X, y, test_size=0.2, random_state=10)"
   ]
  },
  {
   "cell_type": "code",
   "execution_count": 57,
   "id": "9525ad2d",
   "metadata": {},
   "outputs": [],
   "source": [
    "input_size = 768\n",
    "num_classes = 1"
   ]
  },
  {
   "cell_type": "code",
   "execution_count": 58,
   "id": "458aa3c9",
   "metadata": {},
   "outputs": [],
   "source": [
    "model = Sequential()"
   ]
  },
  {
   "cell_type": "code",
   "execution_count": 59,
   "id": "42a5fed9",
   "metadata": {},
   "outputs": [],
   "source": [
    "model.add(Dense(input_size, activation='relu', input_shape=(input_size,)))\n",
    "model.add(Dense(128, activation='relu'))\n",
    "model.add(Dense(num_classes, activation='softmax'))"
   ]
  },
  {
   "cell_type": "code",
   "execution_count": 60,
   "id": "28dfed19",
   "metadata": {},
   "outputs": [],
   "source": [
    "model.compile(loss='categorical_crossentropy', optimizer='adam', metrics=['accuracy'])"
   ]
  },
  {
   "cell_type": "code",
   "execution_count": 61,
   "id": "d027343e",
   "metadata": {},
   "outputs": [
    {
     "name": "stdout",
     "output_type": "stream",
     "text": [
      "Epoch 1/10\n",
      "1/1 [==============================] - 0s 194ms/step - loss: 0.0000e+00 - accuracy: 0.9417 - val_loss: 0.0000e+00 - val_accuracy: 0.9048\n",
      "Epoch 2/10\n",
      "1/1 [==============================] - 0s 9ms/step - loss: 0.0000e+00 - accuracy: 0.9417 - val_loss: 0.0000e+00 - val_accuracy: 0.9048\n",
      "Epoch 3/10\n",
      "1/1 [==============================] - 0s 11ms/step - loss: 0.0000e+00 - accuracy: 0.9417 - val_loss: 0.0000e+00 - val_accuracy: 0.9048\n",
      "Epoch 4/10\n",
      "1/1 [==============================] - 0s 12ms/step - loss: 0.0000e+00 - accuracy: 0.9417 - val_loss: 0.0000e+00 - val_accuracy: 0.9048\n",
      "Epoch 5/10\n",
      "1/1 [==============================] - 0s 10ms/step - loss: 0.0000e+00 - accuracy: 0.9417 - val_loss: 0.0000e+00 - val_accuracy: 0.9048\n",
      "Epoch 6/10\n",
      "1/1 [==============================] - 0s 10ms/step - loss: 0.0000e+00 - accuracy: 0.9417 - val_loss: 0.0000e+00 - val_accuracy: 0.9048\n",
      "Epoch 7/10\n",
      "1/1 [==============================] - 0s 11ms/step - loss: 0.0000e+00 - accuracy: 0.9417 - val_loss: 0.0000e+00 - val_accuracy: 0.9048\n",
      "Epoch 8/10\n",
      "1/1 [==============================] - 0s 10ms/step - loss: 0.0000e+00 - accuracy: 0.9417 - val_loss: 0.0000e+00 - val_accuracy: 0.9048\n",
      "Epoch 9/10\n",
      "1/1 [==============================] - 0s 10ms/step - loss: 0.0000e+00 - accuracy: 0.9417 - val_loss: 0.0000e+00 - val_accuracy: 0.9048\n",
      "Epoch 10/10\n",
      "1/1 [==============================] - 0s 11ms/step - loss: 0.0000e+00 - accuracy: 0.9417 - val_loss: 0.0000e+00 - val_accuracy: 0.9048\n"
     ]
    }
   ],
   "source": [
    "history = model.fit(X, y,\n",
    "                    batch_size=128,\n",
    "                    epochs=10,\n",
    "                    verbose=1,\n",
    "                    validation_data=(X_test, y_test))"
   ]
  }
 ],
 "metadata": {
  "kernelspec": {
   "display_name": "tf",
   "language": "python",
   "name": "tf"
  },
  "language_info": {
   "codemirror_mode": {
    "name": "ipython",
    "version": 3
   },
   "file_extension": ".py",
   "mimetype": "text/x-python",
   "name": "python",
   "nbconvert_exporter": "python",
   "pygments_lexer": "ipython3",
   "version": "3.9.7"
  }
 },
 "nbformat": 4,
 "nbformat_minor": 5
}
